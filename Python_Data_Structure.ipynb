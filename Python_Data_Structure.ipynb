{
  "nbformat": 4,
  "nbformat_minor": 0,
  "metadata": {
    "colab": {
      "provenance": []
    },
    "kernelspec": {
      "name": "python3",
      "display_name": "Python 3"
    },
    "language_info": {
      "name": "python"
    }
  },
  "cells": [
    {
      "cell_type": "markdown",
      "source": [
        "#Python - Data Structure"
      ],
      "metadata": {
        "id": "ly3PNRk625BW"
      }
    },
    {
      "cell_type": "markdown",
      "source": [
        "1. What are Data Structure and why are they important?\n",
        "- Data structures are specialized formats for organizing and storing data in a computer so that it can be accessed and modified efficiently. They are the fundamental tools that computer scientists use to manage and manipulate information.\n",
        "\n",
        "  Think of data structures as the filing cabinets and shelves in a library. Just as a library organizes books for easy retrieval, data structures organize data for efficient processing.\n",
        "\n",
        "  Why are Data Structures Important?\n",
        "\n",
        "  Efficiency: Data structures are designed to optimize the way data is stored and accessed, leading to faster and more efficient programs.  \n",
        "  Organization: They provide a clear and logical way to structure data, making it easier to understand and manage.  \n",
        "  Problem-solving: Many algorithms rely on specific data structures to function effectively.\n",
        "\n",
        "   By understanding data structures, you gain a powerful tool for solving complex problems.\n",
        "\n",
        "2. Explain the difference between mutable and immutable data types with examples.\n",
        "\n",
        "- In Python, data types can be classified into two broad categories: mutable and immutable. The key difference lies in their ability to be modified after creation.\n",
        "\n",
        "  Mutable Data Types\n",
        "  Definition: Mutable data types can be changed after they are created. This means you can modify their values, add or remove elements, or alter their structure.\n",
        "  Examples:\n",
        "  Lists,\n",
        "  Dictionaries,\n",
        "  Sets.\n",
        "\n",
        "  Immutable Data Types\n",
        "\n",
        "  Definition: Immutable data types cannot be changed after they are created. Any operation that appears to modify an immutable object actually creates a new object with the modified value.   \n",
        "Examples:\n",
        "Strings, Tuples, Integers, Floats, Boolean\n",
        "\n",
        "\n",
        "3. What are main difference between lists and tuples in Python?\n",
        "\n",
        "- Lists and tuples are both ordered collections of data in Python, but they have key differences:   \n",
        "\n",
        " Mutability:\n",
        "\n",
        " Lists: Mutable. You can change their contents after creation by adding, removing, or modifying elements.   \n",
        "Tuples: Immutable. Once created, their contents cannot be changed.  \n",
        "Syntax:\n",
        "\n",
        " Lists: Enclosed in square brackets [ ].  \n",
        "Tuples: Enclosed in parentheses ().  \n",
        "Use Cases:\n",
        "Lists:\n",
        "When you need to frequently add, remove, or modify elements.\n",
        "For dynamic data that changes over time.  \n",
        "Tuples:\n",
        "When you want to ensure data integrity and prevent accidental modifications.\n",
        "For representing fixed data, such as coordinates or database records.   \n",
        "As keys in dictionaries, since they are immutable.  \n",
        "Performance:  \n",
        "Tuples: Generally slightly faster than lists due to their immutability, which allows for more efficient memory management.\n",
        "\n",
        "\n",
        "4. Describe how dictionaries store data.\n",
        "\n",
        "- Dictionaries in Python store data in a unique way that allows for very fast lookups. Here's a breakdown:   \n",
        "\n",
        " Key-Value Pairs\n",
        "\n",
        " The core of a dictionary is the concept of key-value pairs. Each pair consists of:\n",
        " A key: This is a unique identifier for the data. It must be immutable (e.g., strings, numbers, tuples).   \n",
        "A value: This can be any Python object, including numbers, strings, lists, other dictionaries, and more.   \n",
        "  Hashing  \n",
        " When you create a dictionary, Python uses a technique called hashing to efficiently store and retrieve data.   \n",
        "Hashing converts the key into a unique integer value (the hash value).\n",
        "This hash value determines the location where the key-value pair will be stored within the dictionary's internal structure.\n",
        "Internal Structure (Simplified)\n",
        "\n",
        " While the exact implementation can vary, a common approach involves:\n",
        "\n",
        " Hash Table: Python dictionaries often use a data structure called a hash table.     \n",
        "Buckets: The hash table is divided into smaller sections called buckets.  \n",
        "Key-Value Storage: Each bucket can hold multiple key-value pairs.  \n",
        "Collision Handling: If two different keys happen to have the same hash value (a \"collision\"), Python uses techniques like chaining (storing colliding pairs in a linked list) or open addressing (finding an alternative empty slot) to resolve the conflict.\n",
        "Benefits of this Approach  \n",
        "Fast Lookups: Given a key, Python can quickly calculate its hash value and directly access the corresponding bucket. This makes lookups very efficient, typically taking constant time (O(1)) on average.   \n",
        "Flexible Data Storage: Dictionaries can store a wide variety of data types as values, making them versatile for various applications.\n",
        "\n",
        "5. Why might you use a set instead of a list in Python?\n",
        "\n",
        "- You might choose to use a set instead of a list in Python for the following reasons:\n",
        "\n",
        " Remove Duplicates: Sets automatically eliminate duplicate elements. If you have a list and need to ensure uniqueness, converting it to a set is a quick and efficient way to achieve this.\n",
        "\n",
        " Membership Testing: Checking if an element exists within a set is very fast (O(1) time complexity on average). This makes sets ideal for situations where you frequently need to check if a particular value is present.\n",
        "\n",
        " Set Operations: Sets support various mathematical set operations:\n",
        "\n",
        " Union: Combine two sets, creating a new set containing all unique elements from both.  \n",
        "Intersection: Find the common elements between two sets.\n",
        "Difference: Find the elements that are in one set but not in another.\n",
        "Symmetric Difference: Find the elements that are in either set, but not in both.  \n",
        "Unordered: Sets do not maintain any specific order of elements. If you need to preserve the order of elements, a list is a better choice.\n",
        "\n",
        "6. What is a string in Python, and how is it different from a list?\n",
        "\n",
        "- String  \n",
        "Definition: In Python, a string is an immutable sequence of characters.\n",
        "Representation: Enclosed within single quotes ('...') or double quotes (\"...\").\n",
        "Example: 'hello', \"world\"\n",
        "Immutability: Strings cannot be changed after they are created. If you need to modify a string, you create a new one.  \n",
        "List  \n",
        "Definition: A list is a mutable, ordered collection of elements.\n",
        "Representation: Enclosed within square brackets [...].\n",
        "Example: [1, 2, 3], ['apple', 'banana', 'cherry']`\n",
        "Mutability: Lists can be modified after creation by adding, removing, or changing elements.\n",
        "\n",
        "7. How do tuples ensure data integrity in Python?\n",
        "\n",
        "- Tuples ensure data integrity in Python through their immutability. This means that once a tuple is created, its contents cannot be changed.   \n",
        " Here's how this immutability guarantees data integrity:\n",
        "\n",
        "  Protection against accidental modification: Since tuples cannot be modified, accidental changes to the data within a tuple are prevented. This is especially important when dealing with critical data that should remain constant.   \n",
        " Hashing and dictionary keys: Tuples can be used as keys in dictionaries because their immutability ensures that their hash values remain constant. This allows for efficient and reliable dictionary lookups.     \n",
        " Thread safety: Tuples are inherently thread-safe. Since they cannot be modified, there's no risk of data corruption due to concurrent access from multiple threads.\n",
        "\n",
        "\n",
        " 8. What is a hash table, and how does it relate to dictionaries in Python?\n",
        "\n",
        "- Hash Table  \n",
        "Concept: A hash table is a data structure that uses a hash function to map keys to specific locations (indices) within an array.\n",
        "Hash Function: A hash function takes an input (the key) and produces a hash value (an integer). This hash value is then used to determine the index in the array where the key-value pair will be stored.\n",
        "Relation to Python Dictionaries\n",
        "\n",
        " Implementation: Python dictionaries are implemented using a variation of hash tables.   \n",
        "Key-Value Storage:\n",
        "Dictionaries store data as key-value pairs.   \n",
        "The keys are used as input to the hash function to determine their location within the dictionary.\n",
        "Efficient Lookups:\n",
        "By using the hash function, dictionaries provide very fast lookups.   \n",
        "Given a key, Python can quickly calculate its hash value and directly access the corresponding value, typically in constant time (O(1)) on average.\n",
        "How it Works (Simplified)\n",
        "\n",
        " Hashing: When you add a key-value pair to a dictionary, Python calculates the hash value of the key.   \n",
        "Indexing: The hash value is used to determine the index in the underlying array where the key-value pair will be stored.   \n",
        "Collision Handling:\n",
        "Sometimes, different keys may produce the same hash value (a \"collision\").\n",
        "Python uses techniques like chaining (storing colliding pairs in a linked list) or open addressing (finding an alternative empty slot) to resolve these collisions.   \n",
        "Benefits  \n",
        "Fast Lookups: The primary advantage of using hash tables is their speed. Lookups, insertions, and deletions can typically be performed in constant time.   \n",
        "Efficient Memory Usage: Hash tables generally use memory efficiently, especially when the number of keys is relatively small compared to the size of the hash table.\n",
        "\n",
        "\n",
        "9.  Can lists contain different data types in Python?\n",
        "\n",
        "- Yes, lists in Python can contain elements of different data types.\n",
        "\n",
        " Here's an example:\n",
        "\n",
        " my_list = [1, \"hello\", 3.14, True]\n",
        "This list contains:\n",
        "\n",
        " 1: An integer\n",
        "\"hello\": A string   \n",
        " 3.14: A float   \n",
        "True: A boolean   \n",
        "This flexibility makes lists very versatile for storing a wide range of information within a single data structure\n",
        "\n",
        "\n",
        "10.  Explain why strings are immutable in Python.\n",
        "\n",
        "- Strings in Python are immutable, meaning they cannot be changed after they are created. This has several significant implications:\n",
        "\n",
        " Data Integrity:\n",
        "\n",
        " Unalterable: Once a string is created, its contents remain fixed. This prevents accidental or intentional modifications to the string's data, ensuring data integrity.\n",
        "Predictability: Knowing that strings are immutable makes it easier to reason about and predict the behavior of your code. You can be certain that a string's value will not change unexpectedly.  \n",
        "\n",
        " Hashing and Dictionary Keys:\n",
        "\n",
        " Consistent Hashing: Immutable objects, like strings, can be used as keys in dictionaries. This is because their hash values (unique integer representations) remain constant. Consistent hashing is crucial for efficient dictionary lookups.\n",
        "\n",
        " Thread Safety:\n",
        "\n",
        " Concurrent Access: Immutable objects are inherently thread-safe. Since they cannot be modified, multiple threads can safely access and use the same string object without the risk of data corruption.  \n",
        "\n",
        " Caching and Performance:\n",
        "\n",
        " Efficient Caching: The immutability of strings allows Python to efficiently cache frequently used strings, improving performance.  \n",
        " Security:\n",
        "\n",
        " Preventing Buffer Overflows: In lower-level languages, mutable strings can be vulnerable to buffer overflows, a serious security issue. Python's string immutability helps mitigate this risk.\n",
        "In essence, string immutability in Python enhances data integrity, improves performance, and contributes to a more secure and predictable programming environment.\n",
        "\n",
        "\n",
        "11.  What advantages do dictionaries offer over lists for certain tasks?\n",
        "\n",
        "- Dictionaries offer several advantages over lists in certain situations:\n",
        "\n",
        " i. Fast Lookups:\n",
        "\n",
        " Dictionaries use hashing: This allows for very fast lookups of values based on their associated keys.   \n",
        "Lists require sequential search: To find a specific value in a list, you often need to iterate through each element until you find a match. This can be slow, especially for large lists.   \n",
        "ii.  Efficient Data Retrieval:\n",
        "\n",
        " Direct access: Dictionaries provide direct access to values using their keys. This makes it easy to retrieve specific information quickly.   \n",
        "Lists require indexing: To access a specific element in a list, you need to know its index position.   \n",
        "iii.  Natural Representation of Data:\n",
        "\n",
        " Key-value pairs: Many real-world scenarios naturally lend themselves to key-value pairs. For example:\n",
        "Student records: {'name': 'Alice', 'age': 25, 'grade': 'A'}\n",
        "Product inventory: {'product_id': 123, 'name': 'Laptop', 'price': 999}  \n",
        "\n",
        " iv. Flexible Data Storage:\n",
        "\n",
        " Diverse data types: Dictionaries can store values of any data type, including other lists, dictionaries, or even functions.\n",
        "When to Use Dictionaries:\n",
        "\n",
        " When you need to quickly access data based on unique identifiers (keys).\n",
        "When you need to represent data in a key-value format.\n",
        "When you need to efficiently store and retrieve large amounts of data.\n",
        "\n",
        "\n",
        "12.  Describe a scenario where using a tuple would be preferable over a list.\n",
        "\n",
        "- Scenario: Storing Configuration Settings\n",
        "\n",
        " Imagine you're developing a game with the following settings:\n",
        "\n",
        " Game Difficulty: Easy, Medium, Hard\n",
        "Sound Volume: 0.1, 0.5, 1.0\n",
        "Resolution: 1280x720, 1920x1080\n",
        "These settings should remain constant throughout the game. Using a tuple would be ideal in this situation\n",
        "\n",
        "\n",
        "13.  How do sets handle duplicate values in Python?\n",
        "\n",
        "- In Python, sets inherently handle duplicate values by automatically removing them.   \n",
        "\n",
        " Unique Elements: A set, by its definition, is a collection of unique elements.   \n",
        "Duplicate Removal: When you create a set or add elements to an existing set, any duplicate values are automatically discarded.\n",
        "\n",
        "14.  How does the \"in\" keyword work differently for lists and dictionaries?\n",
        "\n",
        "- In Lists:\n",
        "\n",
        " Checks for membership: The in keyword checks if a specific value exists within the list.  \n",
        " In Dictionaries:\n",
        "\n",
        " Checks for key existence: The in keyword checks if a specific key exists in the dictionary.\n",
        "\n",
        "\n",
        " 15.  Can you modify the elements of a tuple? Explain why or why not.\n",
        "\n",
        " - No, you cannot directly modify the elements of a tuple in Python.\n",
        "\n",
        " Why?\n",
        "\n",
        " Immutability: Tuples are inherently immutable, meaning they are designed to be unchangeable once created. This is a fundamental characteristic of tuples.\n",
        "\n",
        " 16.  What is a nested dictionary, and give an example of its use case.\n",
        "\n",
        " - Nested Dictionary\n",
        "\n",
        " A nested dictionary in Python is a dictionary where the values associated with some keys are themselves dictionaries. This creates a hierarchical structure, allowing you to represent complex, multi-level data.\n",
        "\n",
        "\n",
        " 17.  Describe the time complexity of accessing elements in a dictionary.\n",
        "\n",
        " - The time complexity of accessing elements in a Python dictionary is typically O(1), which means it's constant time.\n",
        "\n",
        " Here's why:\n",
        "\n",
        " Hashing: Python dictionaries are implemented using a data structure called a hash table.   \n",
        "Key-to-Index Mapping: When you add a key-value pair to a dictionary, the key is hashed, and the resulting hash value is used to determine the index in the underlying array where the key-value pair will be stored.\n",
        "Fast Lookups: Given a key, Python can quickly calculate its hash value and directly access the corresponding value in the array.\n",
        "However, there are some important nuances:\n",
        "\n",
        " Hash Collisions: If two different keys happen to have the same hash value (a \"collision\"), Python needs to handle this. Common techniques include chaining (storing colliding pairs in a linked list) or open addressing (finding an alternative empty slot). In these cases, the time complexity for accessing the element might degrade to O(n) in the worst-case scenario, where 'n' is the number of elements that have collided at that particular index.  \n",
        "Load Factor: The load factor of a hash table is the ratio of the number of elements to the size of the underlying array. A high load factor can increase the likelihood of collisions and thus impact performance.\n",
        "\n",
        "18.  In what situations are lists preferred over dictionaries?\n",
        "\n",
        "- Lists are preferred over dictionaries in situations where:\n",
        "\n",
        " Order matters: Lists maintain the order of elements, while dictionaries do not. If the order of your data is crucial, lists are the better choice.   \n",
        "\n",
        " Example: A list of instructions, a sequence of events, or a playlist of songs.   \n",
        " You primarily need to iterate or perform operations on the entire sequence:\n",
        "\n",
        " Example:  \n",
        " Processing a list of numbers to find the sum or average.\n",
        "Iterating through a list of tasks to perform actions on each item.\n",
        "You need to frequently add or remove elements from the beginning or end of the collection:\n",
        "\n",
        " Lists provide efficient methods for these operations (append(), insert(), pop()).\n",
        "You need to store a collection of homogeneous data: While lists can store heterogeneous data, they are often used to store elements of the same data type.\n",
        "\n",
        "19.  Why are dictionaries considered unordered, and how does that affect data retrieval?\n",
        "\n",
        "- Dictionaries in Python are considered unordered because they don't maintain any specific order of the key-value pairs.   \n",
        "\n",
        " Here's why:\n",
        "\n",
        " Hashing: Dictionaries are implemented using a technique called hashing. When you add a key-value pair, the key is hashed to determine its location within the dictionary's internal structure (usually a hash table). This hashing process can result in the key-value pairs being stored in a seemingly random order.   \n",
        " Focus on Key-Value Mapping: The primary purpose of a dictionary is to efficiently map keys to their corresponding values. Maintaining a specific order of the key-value pairs is not a core concern for dictionaries.   \n",
        "How Unorderedness Affects Data Retrieval:\n",
        "\n",
        " No Reliance on Order: You cannot rely on the order in which key-value pairs appear when iterating through a dictionary.\n",
        "Efficient Lookups: The unordered nature of dictionaries allows for very fast lookups based on keys. This is because the hash function quickly determines the location of the key-value pair within the dictionary.   \n",
        "\n",
        " Important Note:\n",
        "\n",
        " Python 3.7 and later: While dictionaries are inherently unordered, Python 3.7 and later versions preserve the insertion order of key-value pairs. This means that when you iterate over a dictionary, the items will appear in the order they were inserted. However, this is an implementation detail and should not be relied upon for critical logic.\n",
        "\n",
        "\n",
        " 20.  Explain the difference between a list and a dictionary in terms of data retrieval.\n",
        "\n",
        " - Lists\n",
        "\n",
        " Access by Index: You retrieve elements in a list using their numerical index (position).\n",
        "Example: my_list = [10, 20, 30]; my_list[0] (accesses the first element)   \n",
        " Time Complexity:\n",
        "Direct Access: O(1) for accessing elements by their index.   \n",
        "Search: O(n) in the worst case, where 'n' is the number of elements. You might need to iterate through the entire list to find a specific value.   \n",
        "Dictionaries\n",
        "\n",
        " Access by Key: You retrieve values in a dictionary using their associated keys.\n",
        "Example: my_dict = {'a': 1, 'b': 2}; my_dict['a'] (accesses the value associated with the key 'a')\n",
        "  \n",
        " Time Complexity:\n",
        "Average Case: O(1) for accessing values using their keys (due to the efficient hashing mechanism).\n",
        "Worst Case: O(n) in case of hash collisions, where 'n' is the number of elements that have collided at a particular index.\n",
        "Key Differences\n",
        "\n",
        " Access Method: Lists use numerical indices, while dictionaries use keys.   \n",
        "Efficiency: Dictionaries generally provide faster lookups (O(1) on average) compared to lists (O(n) for searching).   \n",
        "Data Organization: Lists are ordered collections, while dictionaries are unordered (though Python 3.7+ maintains insertion order).\n",
        "\n"
      ],
      "metadata": {
        "id": "dKOCjvBd3Qnq"
      }
    },
    {
      "cell_type": "code",
      "source": [
        "\n",
        "# 1. Write a code to create a string with your name and print it.\n",
        "\n",
        "my_name = \"Vikas Maurya\"\n",
        "print(my_name)"
      ],
      "metadata": {
        "colab": {
          "base_uri": "https://localhost:8080/"
        },
        "id": "7r2Ynx0crMAM",
        "outputId": "68ac7c29-7984-4fee-9bfe-291d0736e75f"
      },
      "execution_count": 1,
      "outputs": [
        {
          "output_type": "stream",
          "name": "stdout",
          "text": [
            "Vikas Maurya\n"
          ]
        }
      ]
    },
    {
      "cell_type": "code",
      "source": [
        "# 2. Write a code to find the length of the string \"Hello World\".\n",
        "\n",
        "my_string = \"Hello World\"\n",
        "string_length = len(my_string)\n",
        "\n",
        "print(\"The length of the string is:\", string_length)"
      ],
      "metadata": {
        "colab": {
          "base_uri": "https://localhost:8080/"
        },
        "id": "bvgwxJMIsmLu",
        "outputId": "6fd3c278-324f-4190-9a5c-fc346a129079"
      },
      "execution_count": 2,
      "outputs": [
        {
          "output_type": "stream",
          "name": "stdout",
          "text": [
            "The length of the string is: 11\n"
          ]
        }
      ]
    },
    {
      "cell_type": "code",
      "source": [
        "# 3. Write a code to slice the first 3 characters from the string \"Python Programming\".\n",
        "\n",
        "my_string = \"Python Programming\"\n",
        "sliced_string = my_string[:3]\n",
        "\n",
        "print(\"Sliced string:\", sliced_string)"
      ],
      "metadata": {
        "colab": {
          "base_uri": "https://localhost:8080/"
        },
        "id": "0cYKVuAItAJG",
        "outputId": "56f32704-c535-4ee9-8efc-7a718a28003b"
      },
      "execution_count": 3,
      "outputs": [
        {
          "output_type": "stream",
          "name": "stdout",
          "text": [
            "Sliced string: Pyt\n"
          ]
        }
      ]
    },
    {
      "cell_type": "code",
      "source": [
        "# 4. Write a code to convert the string \"hello\" to uppercase.\n",
        "\n",
        "my_string = \"hello\"\n",
        "uppercase_string = my_string.upper()\n",
        "\n",
        "print(\"Uppercase string:\", uppercase_string)"
      ],
      "metadata": {
        "colab": {
          "base_uri": "https://localhost:8080/"
        },
        "id": "VaDoBJyWtMl_",
        "outputId": "1c6181a0-a1e9-4e05-8360-9a215476bf37"
      },
      "execution_count": 4,
      "outputs": [
        {
          "output_type": "stream",
          "name": "stdout",
          "text": [
            "Uppercase string: HELLO\n"
          ]
        }
      ]
    },
    {
      "cell_type": "code",
      "source": [
        "# 5. Write a code to replace the word \"apple\" with \"orange\" in the string \"I like apple\".\n",
        "\n",
        "my_string = \"I like apple\"\n",
        "new_string = my_string.replace(\"apple\", \"orange\")\n",
        "\n",
        "print(new_string)"
      ],
      "metadata": {
        "colab": {
          "base_uri": "https://localhost:8080/"
        },
        "id": "t4n9PwrBtXs1",
        "outputId": "f23687dc-1fe1-45c4-9b9b-6691ddd1be58"
      },
      "execution_count": 5,
      "outputs": [
        {
          "output_type": "stream",
          "name": "stdout",
          "text": [
            "I like orange\n"
          ]
        }
      ]
    },
    {
      "cell_type": "code",
      "source": [
        "# 6. Write a code to create a list with numbers 1 to 5 and print it.\n",
        "\n",
        "my_list = list(range(1, 6))\n",
        "print(my_list)"
      ],
      "metadata": {
        "colab": {
          "base_uri": "https://localhost:8080/"
        },
        "id": "BP7wv44ctk4R",
        "outputId": "f013a1f1-3fe4-43c0-9dd4-3fb86a5903c8"
      },
      "execution_count": 6,
      "outputs": [
        {
          "output_type": "stream",
          "name": "stdout",
          "text": [
            "[1, 2, 3, 4, 5]\n"
          ]
        }
      ]
    },
    {
      "cell_type": "code",
      "source": [
        "# 7. Write a code to append the number 10 to the list [1, 2, 3, 4]\n",
        "\n",
        "my_list = [1, 2, 3, 4]\n",
        "my_list.append(10)\n",
        "\n",
        "print(my_list)  # Output: [1, 2, 3, 4, 10]"
      ],
      "metadata": {
        "colab": {
          "base_uri": "https://localhost:8080/"
        },
        "id": "2nVNvkqHtwSy",
        "outputId": "8e3eede6-c7ef-49db-c35c-27e2b2c54983"
      },
      "execution_count": 7,
      "outputs": [
        {
          "output_type": "stream",
          "name": "stdout",
          "text": [
            "[1, 2, 3, 4, 10]\n"
          ]
        }
      ]
    },
    {
      "cell_type": "code",
      "source": [
        "# 8. Write a code to remove the number 3 from the list [1, 2, 3, 4, 5].\n",
        "\n",
        "my_list = [1, 2, 3, 4, 5]\n",
        "my_list.remove(3)\n",
        "\n",
        "print(my_list)  # Output: [1, 2, 4, 5]"
      ],
      "metadata": {
        "colab": {
          "base_uri": "https://localhost:8080/"
        },
        "id": "i9qPabRMt8Ra",
        "outputId": "d84dad61-f9e1-41db-ac2e-12f9ca4c8a88"
      },
      "execution_count": 8,
      "outputs": [
        {
          "output_type": "stream",
          "name": "stdout",
          "text": [
            "[1, 2, 4, 5]\n"
          ]
        }
      ]
    },
    {
      "cell_type": "code",
      "source": [
        "# 9. Write a code to access the second element in the list ['a', 'b', 'c', 'd'].\n",
        "\n",
        "my_list = ['a', 'b', 'c', 'd']\n",
        "second_element = my_list[1]\n",
        "\n",
        "print(\"Second element:\", second_element)"
      ],
      "metadata": {
        "colab": {
          "base_uri": "https://localhost:8080/"
        },
        "id": "mj46IKiTuNho",
        "outputId": "d9844959-c90b-4dea-f295-6357e1dd6829"
      },
      "execution_count": 9,
      "outputs": [
        {
          "output_type": "stream",
          "name": "stdout",
          "text": [
            "Second element: b\n"
          ]
        }
      ]
    },
    {
      "cell_type": "code",
      "source": [
        "# 10. Write a code to reverse the list [10, 20, 30, 40, 50].\n",
        "\n",
        "my_list = [10, 20, 30, 40, 50]\n",
        "\n",
        "# Method 1: Using the .reverse() method (modifies the original list)\n",
        "my_list.reverse()\n",
        "print(\"Reversed list (method 1):\", my_list)  # Output: [50, 40, 30, 20, 10]\n",
        "\n",
        "# Method 2: Using slicing (creates a new reversed list)\n",
        "reversed_list = my_list[::-1]\n",
        "print(\"Reversed list (method 2):\", reversed_list)  # Output: [50, 40, 30, 20, 10]\n",
        "\n",
        "# Method 3: Using the reversed() function (creates an iterator)\n",
        "reversed_list = list(reversed(my_list))\n",
        "print(\"Reversed list (method 3):\", reversed_list)  # Output: [50, 40, 30, 20, 10]"
      ],
      "metadata": {
        "colab": {
          "base_uri": "https://localhost:8080/"
        },
        "id": "R1JXxTMEuZuR",
        "outputId": "984c5fdc-f737-4374-8b53-643ee93646fb"
      },
      "execution_count": 10,
      "outputs": [
        {
          "output_type": "stream",
          "name": "stdout",
          "text": [
            "Reversed list (method 1): [50, 40, 30, 20, 10]\n",
            "Reversed list (method 2): [10, 20, 30, 40, 50]\n",
            "Reversed list (method 3): [10, 20, 30, 40, 50]\n"
          ]
        }
      ]
    },
    {
      "cell_type": "code",
      "source": [
        "# 11. Write a code to create a tuple with the elements 10, 20, 30 and print it.\n",
        "\n",
        "my_tuple = (10, 20, 30)\n",
        "print(my_tuple)"
      ],
      "metadata": {
        "colab": {
          "base_uri": "https://localhost:8080/"
        },
        "id": "BqUkSildupGf",
        "outputId": "280345e5-3e73-46ad-d655-8383b9af94e7"
      },
      "execution_count": 11,
      "outputs": [
        {
          "output_type": "stream",
          "name": "stdout",
          "text": [
            "(10, 20, 30)\n"
          ]
        }
      ]
    },
    {
      "cell_type": "code",
      "source": [
        "# 12. Write a code to access the first element of the tuple ('apple', 'banana', 'cherry').\n",
        "\n",
        "my_tuple = ('apple', 'banana', 'cherry')\n",
        "first_element = my_tuple[0]\n",
        "\n",
        "print(\"First element:\", first_element)"
      ],
      "metadata": {
        "colab": {
          "base_uri": "https://localhost:8080/"
        },
        "id": "7OuXPzaxu70f",
        "outputId": "20679a46-27a0-4711-e9b4-e4662a7a030a"
      },
      "execution_count": 12,
      "outputs": [
        {
          "output_type": "stream",
          "name": "stdout",
          "text": [
            "First element: apple\n"
          ]
        }
      ]
    },
    {
      "cell_type": "code",
      "source": [
        "# 13. Write a code to count how many times the number 2 appears in the tuple (1, 2, 3, 2, 4, 2).\n",
        "\n",
        "my_tuple = (1, 2, 3, 2, 4, 2)\n",
        "count = my_tuple.count(2)\n",
        "\n",
        "print(\"Number of occurrences of 2:\", count)"
      ],
      "metadata": {
        "colab": {
          "base_uri": "https://localhost:8080/"
        },
        "id": "2XNCBFwfvNMb",
        "outputId": "8f81f797-dbfc-463f-c975-d5053f0cde6a"
      },
      "execution_count": 13,
      "outputs": [
        {
          "output_type": "stream",
          "name": "stdout",
          "text": [
            "Number of occurrences of 2: 3\n"
          ]
        }
      ]
    },
    {
      "cell_type": "code",
      "source": [
        "# 14. Write a code to find the index of the element \"cat\" in the tuple ('dog', 'cat', 'rabbit').\n",
        "\n",
        "my_tuple = ('dog', 'cat', 'rabbit')\n",
        "index = my_tuple.index('cat')\n",
        "\n",
        "print(\"Index of 'cat':\", index)"
      ],
      "metadata": {
        "colab": {
          "base_uri": "https://localhost:8080/"
        },
        "id": "8kvi81Q_vb3s",
        "outputId": "9923c0d2-5edb-4eeb-d223-2dd1f4ecda56"
      },
      "execution_count": 14,
      "outputs": [
        {
          "output_type": "stream",
          "name": "stdout",
          "text": [
            "Index of 'cat': 1\n"
          ]
        }
      ]
    },
    {
      "cell_type": "code",
      "source": [
        "# 15. Write a code to check if the element \"banana\" is in the tuple ('apple', 'orange', 'banana').\n",
        "\n",
        "my_tuple = ('apple', 'orange', 'banana')\n",
        "\n",
        "if \"banana\" in my_tuple:\n",
        "    print(\"banana is in the tuple\")\n",
        "else:\n",
        "    print(\"banana is not in the tuple\")"
      ],
      "metadata": {
        "colab": {
          "base_uri": "https://localhost:8080/"
        },
        "id": "PaF_yg9CvmGL",
        "outputId": "ab4bfa05-5a80-42d2-8506-8d1946024154"
      },
      "execution_count": 15,
      "outputs": [
        {
          "output_type": "stream",
          "name": "stdout",
          "text": [
            "banana is in the tuple\n"
          ]
        }
      ]
    },
    {
      "cell_type": "code",
      "source": [
        "# 16. Write a code to create a set with the elements 1, 2, 3, 4, 5 and print it.\n",
        "\n",
        "my_set = {1, 2, 3, 4, 5}\n",
        "print(my_set)"
      ],
      "metadata": {
        "colab": {
          "base_uri": "https://localhost:8080/"
        },
        "id": "CxwC6l-FvxJ_",
        "outputId": "295497f2-4a38-45b1-ea05-32d649d57066"
      },
      "execution_count": 16,
      "outputs": [
        {
          "output_type": "stream",
          "name": "stdout",
          "text": [
            "{1, 2, 3, 4, 5}\n"
          ]
        }
      ]
    },
    {
      "cell_type": "code",
      "source": [
        "# 17. Write a code to add the element 6 to the set {1, 2, 3, 4}.\n",
        "\n",
        "my_set = {1, 2, 3, 4}\n",
        "my_set.add(6)\n",
        "\n",
        "print(my_set)  # Output: {1, 2, 3, 4, 6}"
      ],
      "metadata": {
        "colab": {
          "base_uri": "https://localhost:8080/"
        },
        "id": "UDVPz-EqwBBk",
        "outputId": "8ee5fa6c-04be-4628-b468-c76407950591"
      },
      "execution_count": 17,
      "outputs": [
        {
          "output_type": "stream",
          "name": "stdout",
          "text": [
            "{1, 2, 3, 4, 6}\n"
          ]
        }
      ]
    },
    {
      "cell_type": "code",
      "source": [],
      "metadata": {
        "id": "CHSIMErtwfli"
      },
      "execution_count": null,
      "outputs": []
    }
  ]
}